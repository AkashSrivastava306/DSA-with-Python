{
  "nbformat": 4,
  "nbformat_minor": 0,
  "metadata": {
    "colab": {
      "name": "Linked_List.ipynb",
      "provenance": []
    },
    "kernelspec": {
      "name": "python3",
      "display_name": "Python 3"
    }
  },
  "cells": [
    {
      "cell_type": "markdown",
      "metadata": {
        "id": "NGIRy8qE38cR"
      },
      "source": [
        "# **LINKED LIST** "
      ]
    },
    {
      "cell_type": "markdown",
      "metadata": {
        "id": "SQffx8G14C8a"
      },
      "source": [
        " A linked list is a linear collection of nodes, where each node contains a data value and a reference to the next node in the list. \r\n"
      ]
    },
    {
      "cell_type": "markdown",
      "metadata": {
        "id": "Ntowq8Th7dKb"
      },
      "source": [
        "![LL-1.png](data:image/png;base64,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)"
      ]
    },
    {
      "cell_type": "markdown",
      "metadata": {
        "id": "gOBZUhCg8PuA"
      },
      "source": [
        "**Advantages over arrays**\r\n",
        "\r\n",
        "1) Dynamic size\r\n",
        "\r\n",
        "2) Ease of insertion/deletion\r\n",
        "\r\n",
        "**Drawbacks:**\r\n",
        "\r\n",
        "1) Random access is not allowed. We have to access elements sequentially starting from the first node. So we cannot do binary search with linked lists efficiently with its default implementation. \r\n",
        "\r\n",
        "2) Extra memory space for a pointer is required with each element of the list.\r\n",
        "\r\n",
        "3) Not cache friendly. Since array elements are contiguous locations, there is locality of reference which is not there in case of linked lists."
      ]
    },
    {
      "cell_type": "code",
      "metadata": {
        "id": "Naa2c_zQ8d1G"
      },
      "source": [
        "#we will discuss how to implement linked lists in python.\r\n",
        "#let's get started !! "
      ],
      "execution_count": 2,
      "outputs": []
    },
    {
      "cell_type": "code",
      "metadata": {
        "id": "wjfjkkzo8yAP"
      },
      "source": [
        "# let's create Node class:\r\n",
        "\r\n",
        "class Node:\r\n",
        "     def __init__(self, data=None,next=None):\r\n",
        "        self.data = data\r\n",
        "        self.next = next"
      ],
      "execution_count": 40,
      "outputs": []
    },
    {
      "cell_type": "code",
      "metadata": {
        "id": "9PwW2Y8pS_eV"
      },
      "source": [
        "# let's create Linked list\r\n",
        "\r\n",
        "class LinkedList:\r\n",
        "    #Function to initialize head\r\n",
        "    def __init__(self):\r\n",
        "        self.head = None\r\n",
        "    def printll(self):\r\n",
        "            itr =self.head\r\n",
        "            liststr =\" \"\r\n",
        "            while (itr):\r\n",
        "                liststr += str(itr.data)+' --> ' if itr.next else str(itr.data)\r\n",
        "                itr = itr.next\r\n",
        "            print(liststr)\r\n",
        "    def insertion_at_beginning(self,newdata):\r\n",
        "        newnode=Node(newdata)\r\n",
        "        newnode.next=self.head\r\n",
        "        self.head=newnode\r\n",
        "    def insertion_at_end(self,newdata):\r\n",
        "        if self.head is None:\r\n",
        "            self.head =Node(newdata,None)\r\n",
        "            return\r\n",
        "        else:\r\n",
        "            itr = self.head\r\n",
        "            while itr.next:\r\n",
        "                itr =itr.next\r\n",
        "            \r\n",
        "            itr.next = Node(newdata,None)\r\n",
        "\r\n",
        "    def insertion_at(self,index,newdata):\r\n",
        "        if self.head is None:\r\n",
        "            self.head =Node(newdata,None)\r\n",
        "            return\r\n",
        "        else:\r\n",
        "            count=0\r\n",
        "            itr = self.head\r\n",
        "            while itr:\r\n",
        "                if count == index-1:\r\n",
        "                    temp = Node(newdata,itr.next)\r\n",
        "                    itr.next=temp\r\n",
        "                    break\r\n",
        "            \r\n",
        "                itr=itr.next\r\n",
        "                count=count+1\r\n",
        "        \r\n",
        "    def insertion_after(self,key,newdata):\r\n",
        "        if self.head is None:\r\n",
        "            self.head =Node(newdata,None)\r\n",
        "            return\r\n",
        "        else:\r\n",
        "            count=0\r\n",
        "            itr = self.head\r\n",
        "            while itr:\r\n",
        "                if itr.data == key:\r\n",
        "                    temp=Node(newdata,itr.next)\r\n",
        "                    itr.next =temp\r\n",
        "                    break\r\n",
        "                \r\n",
        "                itr=itr.next\r\n",
        "                count=count+1\r\n",
        "\r\n",
        "    def remove_beginning(self):\r\n",
        "        self.head = self.head.next\r\n",
        "        return\r\n",
        "    def remove_at(self,index):\r\n",
        "        if index == 0:\r\n",
        "            self.remove_beginning()\r\n",
        "        else:\r\n",
        "            itr = self.head\r\n",
        "            count =0\r\n",
        "            while itr:\r\n",
        "                if count == index-1:\r\n",
        "                    itr.next = itr.next.next\r\n",
        "                    break\r\n",
        "                \r\n",
        "                itr = itr.next\r\n",
        "                count += 1\r\n",
        "    def length(self):\r\n",
        "        itr =self.head\r\n",
        "        count=0\r\n",
        "        while (itr):\r\n",
        "            count += 1\r\n",
        "            itr = itr.next\r\n",
        "        return count\r\n",
        "\r\n",
        "    def remove_end(self):\r\n",
        "        if self.head is None:\r\n",
        "            print(\"EMPTY LINKED LIST\")\r\n",
        "        else:\r\n",
        "            itr= self.head\r\n",
        "            count=0\r\n",
        "            while itr:\r\n",
        "                if count == (self.length()-2):\r\n",
        "                    itr.next=itr.next.next\r\n",
        "                \r\n",
        "                count+=1\r\n",
        "                itr=itr.next\r\n",
        "    def insert_list(self,list2):\r\n",
        "        for L in list2:\r\n",
        "            self.insertion_at_end(L)\r\n",
        "\r\n"
      ],
      "execution_count": 110,
      "outputs": []
    },
    {
      "cell_type": "code",
      "metadata": {
        "colab": {
          "base_uri": "https://localhost:8080/"
        },
        "id": "-PmAD5QHTd3d",
        "outputId": "fd56b21d-c69e-4005-9755-117fc090ec6f"
      },
      "source": [
        "if __name__ == '__main__':\r\n",
        "    list1 = LinkedList()\r\n",
        "    list1.head = Node(\"MON\")\r\n",
        "    e2 = Node(\"TUE\")\r\n",
        "    e3 = Node(\"WED\")\r\n",
        "    list1.head.next=e2\r\n",
        "    e2.next=e3\r\n",
        "    list1.insertion_at_beginning(5)\r\n",
        "    list1.insertion_at_end(78)\r\n",
        "    list1.insertion_at(2,788)\r\n",
        "    list1.insertion_after('MON',14)\r\n",
        "    list1.remove_beginning()\r\n",
        "    list1.remove_at(2)\r\n",
        "    l=list1.length()\r\n",
        "    print(l)\r\n",
        "    list1.remove_end()\r\n",
        "    list1.insert_list([10,20,30,40,50])\r\n",
        "    list1.printll()"
      ],
      "execution_count": 111,
      "outputs": [
        {
          "output_type": "stream",
          "text": [
            "5\n",
            " MON --> 14 --> TUE --> WED --> 10 --> 20 --> 30 --> 40 --> 50\n"
          ],
          "name": "stdout"
        }
      ]
    },
    {
      "cell_type": "code",
      "metadata": {
        "id": "epxrUJbDTeU1"
      },
      "source": [
        ""
      ],
      "execution_count": null,
      "outputs": []
    }
  ]
}